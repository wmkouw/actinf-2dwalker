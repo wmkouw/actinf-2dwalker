{
 "cells": [
  {
   "cell_type": "code",
   "execution_count": 1,
   "id": "c574432d",
   "metadata": {},
   "outputs": [
    {
     "name": "stderr",
     "output_type": "stream",
     "text": [
      "Gtk-Message: 21:40:53.628: Failed to load module \"canberra-gtk-module\"\n",
      "Gtk-Message: 21:40:53.629: Failed to load module \"canberra-gtk-module\"\n"
     ]
    }
   ],
   "source": [
    "using Plots\n",
    "using Images\n",
    "using ImageView\n",
    "using PyCall"
   ]
  },
  {
   "cell_type": "code",
   "execution_count": 2,
   "id": "de9c7651",
   "metadata": {},
   "outputs": [
    {
     "data": {
      "text/plain": [
       "PyObject <module 'mujoco' from '/home/wmkouw/anaconda3/lib/python3.8/site-packages/mujoco/__init__.py'>"
      ]
     },
     "execution_count": 2,
     "metadata": {},
     "output_type": "execute_result"
    }
   ],
   "source": [
    "mj = pyimport(\"mujoco\")"
   ]
  },
  {
   "cell_type": "code",
   "execution_count": 3,
   "id": "12384bb4",
   "metadata": {},
   "outputs": [],
   "source": [
    "np = pyimport(\"numpy\")\n",
    "rnd = pyimport(\"numpy.random\")\n",
    "alg = pyimport(\"scipy.linalg\")\n",
    "\n",
    "# Graphics and plotting\n",
    "media = pyimport(\"mediapy\")\n",
    "plt = pyimport(\"matplotlib.pyplot\")\n",
    "\n",
    "# More legible printing from numpy.\n",
    "np.set_printoptions(precision=3, suppress=true, linewidth=100)"
   ]
  },
  {
   "cell_type": "code",
   "execution_count": 4,
   "id": "d65cca9e",
   "metadata": {},
   "outputs": [
    {
     "data": {
      "text/plain": [
       "PyObject <mujoco._structs.MjData object at 0x7f55f2ff7130>"
      ]
     },
     "execution_count": 4,
     "metadata": {},
     "output_type": "execute_result"
    }
   ],
   "source": [
    "model = mj.MjModel.from_xml_path(\"half_cheetah.xml\")\n",
    "mdata = mj.MjData(model)"
   ]
  },
  {
   "cell_type": "code",
   "execution_count": 5,
   "id": "1d84dece",
   "metadata": {},
   "outputs": [
    {
     "data": {
      "text/plain": [
       "PyObject <mujoco.renderer.Renderer object at 0x7f562ee4b310>"
      ]
     },
     "execution_count": 5,
     "metadata": {},
     "output_type": "execute_result"
    }
   ],
   "source": [
    "renderer = mj.Renderer(model)"
   ]
  },
  {
   "cell_type": "code",
   "execution_count": 10,
   "id": "087ea10d",
   "metadata": {},
   "outputs": [],
   "source": [
    "DURATION  = 5   # seconds\n",
    "FRAMERATE = 60  # Hz\n",
    "\n",
    "mj.mj_resetDataKeyframe(model, mdata, 1)\n",
    "\n",
    "frames = []\n",
    "while mdata.time < DURATION\n",
    "    \n",
    "    # Random actuator force\n",
    "    mdata.actuator_velocity = rnd.randn(6)*10\n",
    "  \n",
    "    # Step the simulation\n",
    "    mj.mj_step(model, mdata)   \n",
    "    \n",
    "    # Render and save frames\n",
    "#     if len(frames) < data.time * FRAMERATE:\n",
    "    renderer.update_scene(mdata)\n",
    "    pixels = renderer.render()\n",
    "    push!(frames, pixels)\n",
    "end"
   ]
  },
  {
   "cell_type": "code",
   "execution_count": 11,
   "id": "d958c3bc",
   "metadata": {},
   "outputs": [
    {
     "data": {
      "text/plain": [
       "Dict{String, Any} with 4 entries:\n",
       "  \"gui\"         => Dict{String, Any}(\"window\"=>GtkWindowLeaf(name=\"\", parent, w…\n",
       "  \"roi\"         => Dict{String, Any}(\"redraw\"=>Observables.ObserverFunction[Obs…\n",
       "  \"annotations\" => Observable(Dict{UInt64, Any}())\n",
       "  \"clim\"        => Observable(CLim{RUInt8}(0x00, 0xff))"
      ]
     },
     "execution_count": 11,
     "metadata": {},
     "output_type": "execute_result"
    }
   ],
   "source": [
    "imshow(frames[1])"
   ]
  },
  {
   "cell_type": "code",
   "execution_count": 16,
   "id": "5c04d992",
   "metadata": {},
   "outputs": [
    {
     "data": {
      "text/plain": [
       "8×3 Matrix{Float64}:\n",
       "  0.0   0.0   0.0\n",
       "  0.0   0.0   0.7\n",
       " -0.5   0.0   0.0\n",
       "  0.16  0.0  -0.25\n",
       " -0.28  0.0  -0.14\n",
       "  0.5   0.0   0.0\n",
       " -0.14  0.0  -0.24\n",
       "  0.13  0.0  -0.18"
      ]
     },
     "execution_count": 16,
     "metadata": {},
     "output_type": "execute_result"
    }
   ],
   "source": [
    "model.body_pos"
   ]
  }
 ],
 "metadata": {
  "@webio": {
   "lastCommId": null,
   "lastKernelId": null
  },
  "kernelspec": {
   "display_name": "Julia 1.8.3",
   "language": "julia",
   "name": "julia-1.8"
  },
  "language_info": {
   "file_extension": ".jl",
   "mimetype": "application/julia",
   "name": "julia",
   "version": "1.8.3"
  }
 },
 "nbformat": 4,
 "nbformat_minor": 5
}
